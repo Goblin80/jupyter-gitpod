{
 "cells": [
  {
   "cell_type": "code",
   "execution_count": null,
   "id": "1f6a1967",
   "metadata": {},
   "outputs": [],
   "source": [
    "import numpy as np\n",
    "import matplotlib.pyplot as plt"
   ]
  },
  {
   "cell_type": "code",
   "execution_count": null,
   "id": "c5c64df9",
   "metadata": {},
   "outputs": [],
   "source": [
    "def mandelbrot(h, w, maxit=20):\n",
    "\t\"\"\"Returns an image of the Mandelbrot fractal of size (h, w)\"\"\"\n",
    " \n",
    "\ty,x = np.ogrid[ -1.4:1.4:h*1j, -2:0.8:w*1j ]\n",
    "\tc = x+y*1j\n",
    "\tz = c\n",
    "\tdivtime = maxit + np.zeros(z.shape, dtype=int)\n",
    " \n",
    "\tfor i in range(maxit):\n",
    "\t\tz = z**2 + c\n",
    "\t\tdiverge = z*np.conj(z) > 2**2         # who is diverging\n",
    "\t\tdiv_now = diverge & (divtime==maxit)  # who is diverging now\n",
    "\t\tdivtime[div_now] = i                  # note when\n",
    "\t\tz[diverge] = 2                        # avoid diverging too much\n",
    " \n",
    "\treturn divtime"
   ]
  },
  {
   "cell_type": "code",
   "execution_count": null,
   "id": "f4c4fd1e",
   "metadata": {},
   "outputs": [],
   "source": [
    "plt.imshow(mandelbrot(400, 400))"
   ]
  }
 ],
 "metadata": {
  "kernelspec": {
   "display_name": "Python 3",
   "language": "python",
   "name": "python3"
  },
  "language_info": {
   "codemirror_mode": {
    "name": "ipython",
    "version": 3
   },
   "file_extension": ".py",
   "mimetype": "text/x-python",
   "name": "python",
   "nbconvert_exporter": "python",
   "pygments_lexer": "ipython3",
   "version": "3.8.10"
  }
 },
 "nbformat": 4,
 "nbformat_minor": 5
}
